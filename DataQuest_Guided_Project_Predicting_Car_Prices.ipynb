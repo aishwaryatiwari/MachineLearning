{
  "nbformat": 4,
  "nbformat_minor": 0,
  "metadata": {
    "colab": {
      "name": "Guided Project: Predicting Car Prices.ipynb",
      "provenance": [],
      "collapsed_sections": [],
      "authorship_tag": "ABX9TyNq7hq4TSyJRBFcQ54xStI0",
      "include_colab_link": true
    },
    "kernelspec": {
      "name": "python3",
      "display_name": "Python 3"
    },
    "language_info": {
      "name": "python"
    }
  },
  "cells": [
    {
      "cell_type": "markdown",
      "metadata": {
        "id": "view-in-github",
        "colab_type": "text"
      },
      "source": [
        "<a href=\"https://colab.research.google.com/github/aishwaryatiwari/MachineLearning/blob/main/DataQuest_Guided_Project_Predicting_Car_Prices.ipynb\" target=\"_parent\"><img src=\"https://colab.research.google.com/assets/colab-badge.svg\" alt=\"Open In Colab\"/></a>"
      ]
    },
    {
      "cell_type": "code",
      "metadata": {
        "id": "Le91KT-UWXe9"
      },
      "source": [
        "# Import libraries as needed\n",
        "import pandas as pd\n",
        "import numpy as np\n",
        "from sklearn.neighbors import KNeighborsRegressor\n",
        "from sklearn.metrics import mean_squared_error\n",
        "from sklearn.model_selection import train_test_split\n",
        "from  matplotlib import pyplot\n",
        "import seaborn\n",
        "seaborn.set(style='ticks')"
      ],
      "execution_count": 1,
      "outputs": []
    },
    {
      "cell_type": "code",
      "metadata": {
        "colab": {
          "base_uri": "https://localhost:8080/"
        },
        "id": "bAFJdruQTuKQ",
        "outputId": "ed544cd6-3cbd-4963-973b-afccd83eeac1"
      },
      "source": [
        "# Reading in the cars dataset into a pandas dataframe from the given URL\n",
        "cars = pd.read_csv('https://archive.ics.uci.edu/ml/machine-learning-databases/autos/imports-85.data')\n",
        "# The data does not come with headers. Assigning headers explicitly\n",
        "cars.columns = ['symboling','normalized_losses','make','fuel_type',\t'aspiration',\t'num_doors',\t'body_style',\t'drive_wheels',\t'engine_location',\\\n",
        "                'wheel_base',\t'length',\t'width',\t'height',\t'curb_weight',\t'engine_type',\t'num_cylinders',\t'engine_size',\t'fuel_system',\t'bore',\\\n",
        "                'stroke',\t'compression_ratio',\t'horsepower',\t'peak_rpm',\t'city_mpg',\t'highway_mpg',\t'price']\n",
        "cars.info()"
      ],
      "execution_count": 2,
      "outputs": [
        {
          "output_type": "stream",
          "text": [
            "<class 'pandas.core.frame.DataFrame'>\n",
            "RangeIndex: 204 entries, 0 to 203\n",
            "Data columns (total 26 columns):\n",
            " #   Column             Non-Null Count  Dtype  \n",
            "---  ------             --------------  -----  \n",
            " 0   symboling          204 non-null    int64  \n",
            " 1   normalized_losses  204 non-null    object \n",
            " 2   make               204 non-null    object \n",
            " 3   fuel_type          204 non-null    object \n",
            " 4   aspiration         204 non-null    object \n",
            " 5   num_doors          204 non-null    object \n",
            " 6   body_style         204 non-null    object \n",
            " 7   drive_wheels       204 non-null    object \n",
            " 8   engine_location    204 non-null    object \n",
            " 9   wheel_base         204 non-null    float64\n",
            " 10  length             204 non-null    float64\n",
            " 11  width              204 non-null    float64\n",
            " 12  height             204 non-null    float64\n",
            " 13  curb_weight        204 non-null    int64  \n",
            " 14  engine_type        204 non-null    object \n",
            " 15  num_cylinders      204 non-null    object \n",
            " 16  engine_size        204 non-null    int64  \n",
            " 17  fuel_system        204 non-null    object \n",
            " 18  bore               204 non-null    object \n",
            " 19  stroke             204 non-null    object \n",
            " 20  compression_ratio  204 non-null    float64\n",
            " 21  horsepower         204 non-null    object \n",
            " 22  peak_rpm           204 non-null    object \n",
            " 23  city_mpg           204 non-null    int64  \n",
            " 24  highway_mpg        204 non-null    int64  \n",
            " 25  price              204 non-null    object \n",
            "dtypes: float64(5), int64(5), object(16)\n",
            "memory usage: 41.6+ KB\n"
          ],
          "name": "stdout"
        }
      ]
    },
    {
      "cell_type": "code",
      "metadata": {
        "colab": {
          "base_uri": "https://localhost:8080/",
          "height": 227
        },
        "id": "1AYVponhXmbA",
        "outputId": "7ad757b8-7bbb-46d8-e9fb-b127f3d44567"
      },
      "source": [
        "cars.head(4)"
      ],
      "execution_count": 3,
      "outputs": [
        {
          "output_type": "execute_result",
          "data": {
            "text/html": [
              "<div>\n",
              "<style scoped>\n",
              "    .dataframe tbody tr th:only-of-type {\n",
              "        vertical-align: middle;\n",
              "    }\n",
              "\n",
              "    .dataframe tbody tr th {\n",
              "        vertical-align: top;\n",
              "    }\n",
              "\n",
              "    .dataframe thead th {\n",
              "        text-align: right;\n",
              "    }\n",
              "</style>\n",
              "<table border=\"1\" class=\"dataframe\">\n",
              "  <thead>\n",
              "    <tr style=\"text-align: right;\">\n",
              "      <th></th>\n",
              "      <th>symboling</th>\n",
              "      <th>normalized_losses</th>\n",
              "      <th>make</th>\n",
              "      <th>fuel_type</th>\n",
              "      <th>aspiration</th>\n",
              "      <th>num_doors</th>\n",
              "      <th>body_style</th>\n",
              "      <th>drive_wheels</th>\n",
              "      <th>engine_location</th>\n",
              "      <th>wheel_base</th>\n",
              "      <th>length</th>\n",
              "      <th>width</th>\n",
              "      <th>height</th>\n",
              "      <th>curb_weight</th>\n",
              "      <th>engine_type</th>\n",
              "      <th>num_cylinders</th>\n",
              "      <th>engine_size</th>\n",
              "      <th>fuel_system</th>\n",
              "      <th>bore</th>\n",
              "      <th>stroke</th>\n",
              "      <th>compression_ratio</th>\n",
              "      <th>horsepower</th>\n",
              "      <th>peak_rpm</th>\n",
              "      <th>city_mpg</th>\n",
              "      <th>highway_mpg</th>\n",
              "      <th>price</th>\n",
              "    </tr>\n",
              "  </thead>\n",
              "  <tbody>\n",
              "    <tr>\n",
              "      <th>0</th>\n",
              "      <td>3</td>\n",
              "      <td>?</td>\n",
              "      <td>alfa-romero</td>\n",
              "      <td>gas</td>\n",
              "      <td>std</td>\n",
              "      <td>two</td>\n",
              "      <td>convertible</td>\n",
              "      <td>rwd</td>\n",
              "      <td>front</td>\n",
              "      <td>88.6</td>\n",
              "      <td>168.8</td>\n",
              "      <td>64.1</td>\n",
              "      <td>48.8</td>\n",
              "      <td>2548</td>\n",
              "      <td>dohc</td>\n",
              "      <td>four</td>\n",
              "      <td>130</td>\n",
              "      <td>mpfi</td>\n",
              "      <td>3.47</td>\n",
              "      <td>2.68</td>\n",
              "      <td>9.0</td>\n",
              "      <td>111</td>\n",
              "      <td>5000</td>\n",
              "      <td>21</td>\n",
              "      <td>27</td>\n",
              "      <td>16500</td>\n",
              "    </tr>\n",
              "    <tr>\n",
              "      <th>1</th>\n",
              "      <td>1</td>\n",
              "      <td>?</td>\n",
              "      <td>alfa-romero</td>\n",
              "      <td>gas</td>\n",
              "      <td>std</td>\n",
              "      <td>two</td>\n",
              "      <td>hatchback</td>\n",
              "      <td>rwd</td>\n",
              "      <td>front</td>\n",
              "      <td>94.5</td>\n",
              "      <td>171.2</td>\n",
              "      <td>65.5</td>\n",
              "      <td>52.4</td>\n",
              "      <td>2823</td>\n",
              "      <td>ohcv</td>\n",
              "      <td>six</td>\n",
              "      <td>152</td>\n",
              "      <td>mpfi</td>\n",
              "      <td>2.68</td>\n",
              "      <td>3.47</td>\n",
              "      <td>9.0</td>\n",
              "      <td>154</td>\n",
              "      <td>5000</td>\n",
              "      <td>19</td>\n",
              "      <td>26</td>\n",
              "      <td>16500</td>\n",
              "    </tr>\n",
              "    <tr>\n",
              "      <th>2</th>\n",
              "      <td>2</td>\n",
              "      <td>164</td>\n",
              "      <td>audi</td>\n",
              "      <td>gas</td>\n",
              "      <td>std</td>\n",
              "      <td>four</td>\n",
              "      <td>sedan</td>\n",
              "      <td>fwd</td>\n",
              "      <td>front</td>\n",
              "      <td>99.8</td>\n",
              "      <td>176.6</td>\n",
              "      <td>66.2</td>\n",
              "      <td>54.3</td>\n",
              "      <td>2337</td>\n",
              "      <td>ohc</td>\n",
              "      <td>four</td>\n",
              "      <td>109</td>\n",
              "      <td>mpfi</td>\n",
              "      <td>3.19</td>\n",
              "      <td>3.40</td>\n",
              "      <td>10.0</td>\n",
              "      <td>102</td>\n",
              "      <td>5500</td>\n",
              "      <td>24</td>\n",
              "      <td>30</td>\n",
              "      <td>13950</td>\n",
              "    </tr>\n",
              "    <tr>\n",
              "      <th>3</th>\n",
              "      <td>2</td>\n",
              "      <td>164</td>\n",
              "      <td>audi</td>\n",
              "      <td>gas</td>\n",
              "      <td>std</td>\n",
              "      <td>four</td>\n",
              "      <td>sedan</td>\n",
              "      <td>4wd</td>\n",
              "      <td>front</td>\n",
              "      <td>99.4</td>\n",
              "      <td>176.6</td>\n",
              "      <td>66.4</td>\n",
              "      <td>54.3</td>\n",
              "      <td>2824</td>\n",
              "      <td>ohc</td>\n",
              "      <td>five</td>\n",
              "      <td>136</td>\n",
              "      <td>mpfi</td>\n",
              "      <td>3.19</td>\n",
              "      <td>3.40</td>\n",
              "      <td>8.0</td>\n",
              "      <td>115</td>\n",
              "      <td>5500</td>\n",
              "      <td>18</td>\n",
              "      <td>22</td>\n",
              "      <td>17450</td>\n",
              "    </tr>\n",
              "  </tbody>\n",
              "</table>\n",
              "</div>"
            ],
            "text/plain": [
              "   symboling normalized_losses         make  ... city_mpg highway_mpg  price\n",
              "0          3                 ?  alfa-romero  ...       21          27  16500\n",
              "1          1                 ?  alfa-romero  ...       19          26  16500\n",
              "2          2               164         audi  ...       24          30  13950\n",
              "3          2               164         audi  ...       18          22  17450\n",
              "\n",
              "[4 rows x 26 columns]"
            ]
          },
          "metadata": {
            "tags": []
          },
          "execution_count": 3
        }
      ]
    },
    {
      "cell_type": "code",
      "metadata": {
        "colab": {
          "base_uri": "https://localhost:8080/",
          "height": 227
        },
        "id": "79LSGC-NWqSw",
        "outputId": "10cf1810-2218-489f-93b4-da5198c2db2e"
      },
      "source": [
        "# Replacing '?' values with NAN. We will eventually need to remove all rows where cells used in the model have missing values\n",
        "cars = cars.replace('?', np.nan)\n",
        "cars.head(4)"
      ],
      "execution_count": 4,
      "outputs": [
        {
          "output_type": "execute_result",
          "data": {
            "text/html": [
              "<div>\n",
              "<style scoped>\n",
              "    .dataframe tbody tr th:only-of-type {\n",
              "        vertical-align: middle;\n",
              "    }\n",
              "\n",
              "    .dataframe tbody tr th {\n",
              "        vertical-align: top;\n",
              "    }\n",
              "\n",
              "    .dataframe thead th {\n",
              "        text-align: right;\n",
              "    }\n",
              "</style>\n",
              "<table border=\"1\" class=\"dataframe\">\n",
              "  <thead>\n",
              "    <tr style=\"text-align: right;\">\n",
              "      <th></th>\n",
              "      <th>symboling</th>\n",
              "      <th>normalized_losses</th>\n",
              "      <th>make</th>\n",
              "      <th>fuel_type</th>\n",
              "      <th>aspiration</th>\n",
              "      <th>num_doors</th>\n",
              "      <th>body_style</th>\n",
              "      <th>drive_wheels</th>\n",
              "      <th>engine_location</th>\n",
              "      <th>wheel_base</th>\n",
              "      <th>length</th>\n",
              "      <th>width</th>\n",
              "      <th>height</th>\n",
              "      <th>curb_weight</th>\n",
              "      <th>engine_type</th>\n",
              "      <th>num_cylinders</th>\n",
              "      <th>engine_size</th>\n",
              "      <th>fuel_system</th>\n",
              "      <th>bore</th>\n",
              "      <th>stroke</th>\n",
              "      <th>compression_ratio</th>\n",
              "      <th>horsepower</th>\n",
              "      <th>peak_rpm</th>\n",
              "      <th>city_mpg</th>\n",
              "      <th>highway_mpg</th>\n",
              "      <th>price</th>\n",
              "    </tr>\n",
              "  </thead>\n",
              "  <tbody>\n",
              "    <tr>\n",
              "      <th>0</th>\n",
              "      <td>3</td>\n",
              "      <td>NaN</td>\n",
              "      <td>alfa-romero</td>\n",
              "      <td>gas</td>\n",
              "      <td>std</td>\n",
              "      <td>two</td>\n",
              "      <td>convertible</td>\n",
              "      <td>rwd</td>\n",
              "      <td>front</td>\n",
              "      <td>88.6</td>\n",
              "      <td>168.8</td>\n",
              "      <td>64.1</td>\n",
              "      <td>48.8</td>\n",
              "      <td>2548</td>\n",
              "      <td>dohc</td>\n",
              "      <td>four</td>\n",
              "      <td>130</td>\n",
              "      <td>mpfi</td>\n",
              "      <td>3.47</td>\n",
              "      <td>2.68</td>\n",
              "      <td>9.0</td>\n",
              "      <td>111</td>\n",
              "      <td>5000</td>\n",
              "      <td>21</td>\n",
              "      <td>27</td>\n",
              "      <td>16500</td>\n",
              "    </tr>\n",
              "    <tr>\n",
              "      <th>1</th>\n",
              "      <td>1</td>\n",
              "      <td>NaN</td>\n",
              "      <td>alfa-romero</td>\n",
              "      <td>gas</td>\n",
              "      <td>std</td>\n",
              "      <td>two</td>\n",
              "      <td>hatchback</td>\n",
              "      <td>rwd</td>\n",
              "      <td>front</td>\n",
              "      <td>94.5</td>\n",
              "      <td>171.2</td>\n",
              "      <td>65.5</td>\n",
              "      <td>52.4</td>\n",
              "      <td>2823</td>\n",
              "      <td>ohcv</td>\n",
              "      <td>six</td>\n",
              "      <td>152</td>\n",
              "      <td>mpfi</td>\n",
              "      <td>2.68</td>\n",
              "      <td>3.47</td>\n",
              "      <td>9.0</td>\n",
              "      <td>154</td>\n",
              "      <td>5000</td>\n",
              "      <td>19</td>\n",
              "      <td>26</td>\n",
              "      <td>16500</td>\n",
              "    </tr>\n",
              "    <tr>\n",
              "      <th>2</th>\n",
              "      <td>2</td>\n",
              "      <td>164</td>\n",
              "      <td>audi</td>\n",
              "      <td>gas</td>\n",
              "      <td>std</td>\n",
              "      <td>four</td>\n",
              "      <td>sedan</td>\n",
              "      <td>fwd</td>\n",
              "      <td>front</td>\n",
              "      <td>99.8</td>\n",
              "      <td>176.6</td>\n",
              "      <td>66.2</td>\n",
              "      <td>54.3</td>\n",
              "      <td>2337</td>\n",
              "      <td>ohc</td>\n",
              "      <td>four</td>\n",
              "      <td>109</td>\n",
              "      <td>mpfi</td>\n",
              "      <td>3.19</td>\n",
              "      <td>3.40</td>\n",
              "      <td>10.0</td>\n",
              "      <td>102</td>\n",
              "      <td>5500</td>\n",
              "      <td>24</td>\n",
              "      <td>30</td>\n",
              "      <td>13950</td>\n",
              "    </tr>\n",
              "    <tr>\n",
              "      <th>3</th>\n",
              "      <td>2</td>\n",
              "      <td>164</td>\n",
              "      <td>audi</td>\n",
              "      <td>gas</td>\n",
              "      <td>std</td>\n",
              "      <td>four</td>\n",
              "      <td>sedan</td>\n",
              "      <td>4wd</td>\n",
              "      <td>front</td>\n",
              "      <td>99.4</td>\n",
              "      <td>176.6</td>\n",
              "      <td>66.4</td>\n",
              "      <td>54.3</td>\n",
              "      <td>2824</td>\n",
              "      <td>ohc</td>\n",
              "      <td>five</td>\n",
              "      <td>136</td>\n",
              "      <td>mpfi</td>\n",
              "      <td>3.19</td>\n",
              "      <td>3.40</td>\n",
              "      <td>8.0</td>\n",
              "      <td>115</td>\n",
              "      <td>5500</td>\n",
              "      <td>18</td>\n",
              "      <td>22</td>\n",
              "      <td>17450</td>\n",
              "    </tr>\n",
              "  </tbody>\n",
              "</table>\n",
              "</div>"
            ],
            "text/plain": [
              "   symboling normalized_losses         make  ... city_mpg highway_mpg  price\n",
              "0          3               NaN  alfa-romero  ...       21          27  16500\n",
              "1          1               NaN  alfa-romero  ...       19          26  16500\n",
              "2          2               164         audi  ...       24          30  13950\n",
              "3          2               164         audi  ...       18          22  17450\n",
              "\n",
              "[4 rows x 26 columns]"
            ]
          },
          "metadata": {
            "tags": []
          },
          "execution_count": 4
        }
      ]
    },
    {
      "cell_type": "code",
      "metadata": {
        "colab": {
          "base_uri": "https://localhost:8080/"
        },
        "id": "HjWdMu1rEzhU",
        "outputId": "030b8cf2-ed8f-4cd2-d346-7c42e769e8fc"
      },
      "source": [
        "# Correcting datatypes to ensure int and float columns are not represented as objects\n",
        "cars = cars.astype({'normalized_losses':'float', 'bore':'float', 'stroke':'float', 'horsepower':'float', 'peak_rpm':'float', 'price':'float'})\n",
        "# Check updated datatypes\n",
        "cars.dtypes"
      ],
      "execution_count": 5,
      "outputs": [
        {
          "output_type": "execute_result",
          "data": {
            "text/plain": [
              "symboling              int64\n",
              "normalized_losses    float64\n",
              "make                  object\n",
              "fuel_type             object\n",
              "aspiration            object\n",
              "num_doors             object\n",
              "body_style            object\n",
              "drive_wheels          object\n",
              "engine_location       object\n",
              "wheel_base           float64\n",
              "length               float64\n",
              "width                float64\n",
              "height               float64\n",
              "curb_weight            int64\n",
              "engine_type           object\n",
              "num_cylinders         object\n",
              "engine_size            int64\n",
              "fuel_system           object\n",
              "bore                 float64\n",
              "stroke               float64\n",
              "compression_ratio    float64\n",
              "horsepower           float64\n",
              "peak_rpm             float64\n",
              "city_mpg               int64\n",
              "highway_mpg            int64\n",
              "price                float64\n",
              "dtype: object"
            ]
          },
          "metadata": {
            "tags": []
          },
          "execution_count": 5
        }
      ]
    },
    {
      "cell_type": "code",
      "metadata": {
        "colab": {
          "base_uri": "https://localhost:8080/"
        },
        "id": "glsgjr_QWoYa",
        "outputId": "f6b526b7-aaa0-4195-f708-04df3fa4cfe1"
      },
      "source": [
        "# 40 out of 204, i.e. 20% records have missing values for normalized losses. We need to explore the best strategy to handle these cases\n",
        "print('All Records - ', cars.shape, 'Records with null normalized losses - ', np.isnan(cars.normalized_losses).sum())\n",
        "\n",
        "# Exploring the values of other columns where normalized losses is null - \n",
        "cars.loc[cars['normalized_losses'].isnull()].isna().sum()"
      ],
      "execution_count": 6,
      "outputs": [
        {
          "output_type": "stream",
          "text": [
            "All Records -  (204, 26) Records with null normalized losses -  40\n"
          ],
          "name": "stdout"
        },
        {
          "output_type": "execute_result",
          "data": {
            "text/plain": [
              "symboling             0\n",
              "normalized_losses    40\n",
              "make                  0\n",
              "fuel_type             0\n",
              "aspiration            0\n",
              "num_doors             1\n",
              "body_style            0\n",
              "drive_wheels          0\n",
              "engine_location       0\n",
              "wheel_base            0\n",
              "length                0\n",
              "width                 0\n",
              "height                0\n",
              "curb_weight           0\n",
              "engine_type           0\n",
              "num_cylinders         0\n",
              "engine_size           0\n",
              "fuel_system           0\n",
              "bore                  0\n",
              "stroke                0\n",
              "compression_ratio     0\n",
              "horsepower            2\n",
              "peak_rpm              2\n",
              "city_mpg              0\n",
              "highway_mpg           0\n",
              "price                 4\n",
              "dtype: int64"
            ]
          },
          "metadata": {
            "tags": []
          },
          "execution_count": 6
        }
      ]
    },
    {
      "cell_type": "code",
      "metadata": {
        "colab": {
          "base_uri": "https://localhost:8080/"
        },
        "id": "8LO_nJC7WhQd",
        "outputId": "dc9c4cc8-0ad3-4eb2-db74-548686d06f72"
      },
      "source": [
        "print('All records - ', cars.shape)\n",
        "# Removing records from the dataframe where normalized losses and price is null - \n",
        "cars = cars.loc[~((cars.normalized_losses.isnull()) & (cars.price.isnull()))]\n",
        "print('Records after removing rows with null price column - ', cars.shape)\n",
        "\n",
        "# Few rows have other columns as null, alongwith normalized_losses being null. These are removed as well - \n",
        "cars = cars.loc[~((cars.normalized_losses.isnull()) & ((cars.num_doors.isnull()) | (cars.horsepower.isnull()) | (cars.peak_rpm.isnull())))]\n",
        "cars = cars.loc[~((cars.bore.isnull()) | (cars.stroke.isnull()))]\n",
        "print('Records after removing rows with other null columns - ', cars.shape)\n",
        "\n",
        "# Removing Object-type columns from the dataframe\n",
        "cars = cars.drop(columns={'make','fuel_type', 'aspiration', 'num_doors', 'body_style', 'drive_wheels', 'engine_location', 'engine_type',\\\n",
        "                          'num_cylinders','fuel_system'})\n",
        "print('Records after removing columns with Object datatype - ', cars.shape)"
      ],
      "execution_count": 7,
      "outputs": [
        {
          "output_type": "stream",
          "text": [
            "All records -  (204, 26)\n",
            "Records after removing rows with null price column -  (200, 26)\n",
            "Records after removing rows with other null columns -  (193, 26)\n",
            "Records after removing columns with Object datatype -  (193, 16)\n"
          ],
          "name": "stdout"
        }
      ]
    },
    {
      "cell_type": "code",
      "metadata": {
        "colab": {
          "base_uri": "https://localhost:8080/"
        },
        "id": "TdwBAfwDN4fc",
        "outputId": "c0757786-7950-46dc-d71a-7015e0edf2cf"
      },
      "source": [
        "# Proportionally large number of rows have null values for normalized losses. Setting the normalized losses column to the mean value of the column\n",
        "cars.loc[cars['normalized_losses'].isnull(), 'normalized_losses'] = cars.normalized_losses.mean()\n",
        "\n",
        "# Validate to see that no columns should have any null values now - \n",
        "cars.loc[cars['normalized_losses'].isnull()].isna().sum()"
      ],
      "execution_count": 8,
      "outputs": [
        {
          "output_type": "execute_result",
          "data": {
            "text/plain": [
              "symboling            0\n",
              "normalized_losses    0\n",
              "wheel_base           0\n",
              "length               0\n",
              "width                0\n",
              "height               0\n",
              "curb_weight          0\n",
              "engine_size          0\n",
              "bore                 0\n",
              "stroke               0\n",
              "compression_ratio    0\n",
              "horsepower           0\n",
              "peak_rpm             0\n",
              "city_mpg             0\n",
              "highway_mpg          0\n",
              "price                0\n",
              "dtype: int64"
            ]
          },
          "metadata": {
            "tags": []
          },
          "execution_count": 8
        }
      ]
    },
    {
      "cell_type": "code",
      "metadata": {
        "colab": {
          "base_uri": "https://localhost:8080/",
          "height": 131
        },
        "id": "Tnpf_hf3QdjN",
        "outputId": "ff130731-5df9-4488-fff9-fd15e506d982"
      },
      "source": [
        "# After the row deletions above, reseting index to be sequential again\n",
        "cars = cars.reset_index().drop(columns='index')\n",
        "cars.head(2)"
      ],
      "execution_count": 9,
      "outputs": [
        {
          "output_type": "execute_result",
          "data": {
            "text/html": [
              "<div>\n",
              "<style scoped>\n",
              "    .dataframe tbody tr th:only-of-type {\n",
              "        vertical-align: middle;\n",
              "    }\n",
              "\n",
              "    .dataframe tbody tr th {\n",
              "        vertical-align: top;\n",
              "    }\n",
              "\n",
              "    .dataframe thead th {\n",
              "        text-align: right;\n",
              "    }\n",
              "</style>\n",
              "<table border=\"1\" class=\"dataframe\">\n",
              "  <thead>\n",
              "    <tr style=\"text-align: right;\">\n",
              "      <th></th>\n",
              "      <th>symboling</th>\n",
              "      <th>normalized_losses</th>\n",
              "      <th>wheel_base</th>\n",
              "      <th>length</th>\n",
              "      <th>width</th>\n",
              "      <th>height</th>\n",
              "      <th>curb_weight</th>\n",
              "      <th>engine_size</th>\n",
              "      <th>bore</th>\n",
              "      <th>stroke</th>\n",
              "      <th>compression_ratio</th>\n",
              "      <th>horsepower</th>\n",
              "      <th>peak_rpm</th>\n",
              "      <th>city_mpg</th>\n",
              "      <th>highway_mpg</th>\n",
              "      <th>price</th>\n",
              "    </tr>\n",
              "  </thead>\n",
              "  <tbody>\n",
              "    <tr>\n",
              "      <th>0</th>\n",
              "      <td>3</td>\n",
              "      <td>121.3</td>\n",
              "      <td>88.6</td>\n",
              "      <td>168.8</td>\n",
              "      <td>64.1</td>\n",
              "      <td>48.8</td>\n",
              "      <td>2548</td>\n",
              "      <td>130</td>\n",
              "      <td>3.47</td>\n",
              "      <td>2.68</td>\n",
              "      <td>9.0</td>\n",
              "      <td>111.0</td>\n",
              "      <td>5000.0</td>\n",
              "      <td>21</td>\n",
              "      <td>27</td>\n",
              "      <td>16500.0</td>\n",
              "    </tr>\n",
              "    <tr>\n",
              "      <th>1</th>\n",
              "      <td>1</td>\n",
              "      <td>121.3</td>\n",
              "      <td>94.5</td>\n",
              "      <td>171.2</td>\n",
              "      <td>65.5</td>\n",
              "      <td>52.4</td>\n",
              "      <td>2823</td>\n",
              "      <td>152</td>\n",
              "      <td>2.68</td>\n",
              "      <td>3.47</td>\n",
              "      <td>9.0</td>\n",
              "      <td>154.0</td>\n",
              "      <td>5000.0</td>\n",
              "      <td>19</td>\n",
              "      <td>26</td>\n",
              "      <td>16500.0</td>\n",
              "    </tr>\n",
              "  </tbody>\n",
              "</table>\n",
              "</div>"
            ],
            "text/plain": [
              "   symboling  normalized_losses  wheel_base  ...  city_mpg  highway_mpg    price\n",
              "0          3              121.3        88.6  ...        21           27  16500.0\n",
              "1          1              121.3        94.5  ...        19           26  16500.0\n",
              "\n",
              "[2 rows x 16 columns]"
            ]
          },
          "metadata": {
            "tags": []
          },
          "execution_count": 9
        }
      ]
    },
    {
      "cell_type": "code",
      "metadata": {
        "colab": {
          "base_uri": "https://localhost:8080/",
          "height": 224
        },
        "id": "xe8_QMFcREfc",
        "outputId": "da441f77-214f-43b7-9c3c-d03e7133ed03"
      },
      "source": [
        "# Mean-normalize numeric values in the dataframe\n",
        "# Mean of 0, standard deviation of 1\n",
        "cars_norm = (cars - cars.mean())/cars.std()\n",
        "# Set price column back to the original price values\n",
        "cars_norm['price'] = cars['price']\n",
        "cars_norm.head()"
      ],
      "execution_count": 10,
      "outputs": [
        {
          "output_type": "execute_result",
          "data": {
            "text/html": [
              "<div>\n",
              "<style scoped>\n",
              "    .dataframe tbody tr th:only-of-type {\n",
              "        vertical-align: middle;\n",
              "    }\n",
              "\n",
              "    .dataframe tbody tr th {\n",
              "        vertical-align: top;\n",
              "    }\n",
              "\n",
              "    .dataframe thead th {\n",
              "        text-align: right;\n",
              "    }\n",
              "</style>\n",
              "<table border=\"1\" class=\"dataframe\">\n",
              "  <thead>\n",
              "    <tr style=\"text-align: right;\">\n",
              "      <th></th>\n",
              "      <th>symboling</th>\n",
              "      <th>normalized_losses</th>\n",
              "      <th>wheel_base</th>\n",
              "      <th>length</th>\n",
              "      <th>width</th>\n",
              "      <th>height</th>\n",
              "      <th>curb_weight</th>\n",
              "      <th>engine_size</th>\n",
              "      <th>bore</th>\n",
              "      <th>stroke</th>\n",
              "      <th>compression_ratio</th>\n",
              "      <th>horsepower</th>\n",
              "      <th>peak_rpm</th>\n",
              "      <th>city_mpg</th>\n",
              "      <th>highway_mpg</th>\n",
              "      <th>price</th>\n",
              "    </tr>\n",
              "  </thead>\n",
              "  <tbody>\n",
              "    <tr>\n",
              "      <th>0</th>\n",
              "      <td>1.805537</td>\n",
              "      <td>1.315873e-15</td>\n",
              "      <td>-1.691579</td>\n",
              "      <td>-0.436214</td>\n",
              "      <td>-0.837797</td>\n",
              "      <td>-2.135610</td>\n",
              "      <td>-0.022106</td>\n",
              "      <td>0.049018</td>\n",
              "      <td>0.518794</td>\n",
              "      <td>-1.829888</td>\n",
              "      <td>-0.285459</td>\n",
              "      <td>0.199302</td>\n",
              "      <td>-0.217949</td>\n",
              "      <td>-0.680464</td>\n",
              "      <td>-0.558324</td>\n",
              "      <td>16500.0</td>\n",
              "    </tr>\n",
              "    <tr>\n",
              "      <th>1</th>\n",
              "      <td>0.173365</td>\n",
              "      <td>1.315873e-15</td>\n",
              "      <td>-0.727321</td>\n",
              "      <td>-0.244712</td>\n",
              "      <td>-0.183351</td>\n",
              "      <td>-0.621970</td>\n",
              "      <td>0.499346</td>\n",
              "      <td>0.577272</td>\n",
              "      <td>-2.374423</td>\n",
              "      <td>0.695026</td>\n",
              "      <td>-0.285459</td>\n",
              "      <td>1.332182</td>\n",
              "      <td>-0.217949</td>\n",
              "      <td>-0.993900</td>\n",
              "      <td>-0.705132</td>\n",
              "      <td>16500.0</td>\n",
              "    </tr>\n",
              "    <tr>\n",
              "      <th>2</th>\n",
              "      <td>0.989451</td>\n",
              "      <td>1.317955e+00</td>\n",
              "      <td>0.138876</td>\n",
              "      <td>0.186169</td>\n",
              "      <td>0.143871</td>\n",
              "      <td>0.176896</td>\n",
              "      <td>-0.422201</td>\n",
              "      <td>-0.455224</td>\n",
              "      <td>-0.506650</td>\n",
              "      <td>0.471300</td>\n",
              "      <td>-0.034257</td>\n",
              "      <td>-0.037813</td>\n",
              "      <td>0.846966</td>\n",
              "      <td>-0.210311</td>\n",
              "      <td>-0.117902</td>\n",
              "      <td>13950.0</td>\n",
              "    </tr>\n",
              "    <tr>\n",
              "      <th>3</th>\n",
              "      <td>0.989451</td>\n",
              "      <td>1.317955e+00</td>\n",
              "      <td>0.073503</td>\n",
              "      <td>0.186169</td>\n",
              "      <td>0.237364</td>\n",
              "      <td>0.176896</td>\n",
              "      <td>0.501242</td>\n",
              "      <td>0.193087</td>\n",
              "      <td>-0.506650</td>\n",
              "      <td>0.471300</td>\n",
              "      <td>-0.536661</td>\n",
              "      <td>0.304686</td>\n",
              "      <td>0.846966</td>\n",
              "      <td>-1.150618</td>\n",
              "      <td>-1.292361</td>\n",
              "      <td>17450.0</td>\n",
              "    </tr>\n",
              "    <tr>\n",
              "      <th>4</th>\n",
              "      <td>0.989451</td>\n",
              "      <td>1.315873e-15</td>\n",
              "      <td>0.138876</td>\n",
              "      <td>0.242024</td>\n",
              "      <td>0.190618</td>\n",
              "      <td>-0.327650</td>\n",
              "      <td>-0.099849</td>\n",
              "      <td>0.193087</td>\n",
              "      <td>-0.506650</td>\n",
              "      <td>0.471300</td>\n",
              "      <td>-0.411060</td>\n",
              "      <td>0.172956</td>\n",
              "      <td>0.846966</td>\n",
              "      <td>-0.993900</td>\n",
              "      <td>-0.851939</td>\n",
              "      <td>15250.0</td>\n",
              "    </tr>\n",
              "  </tbody>\n",
              "</table>\n",
              "</div>"
            ],
            "text/plain": [
              "   symboling  normalized_losses  wheel_base  ...  city_mpg  highway_mpg    price\n",
              "0   1.805537       1.315873e-15   -1.691579  ... -0.680464    -0.558324  16500.0\n",
              "1   0.173365       1.315873e-15   -0.727321  ... -0.993900    -0.705132  16500.0\n",
              "2   0.989451       1.317955e+00    0.138876  ... -0.210311    -0.117902  13950.0\n",
              "3   0.989451       1.317955e+00    0.073503  ... -1.150618    -1.292361  17450.0\n",
              "4   0.989451       1.315873e-15    0.138876  ... -0.993900    -0.851939  15250.0\n",
              "\n",
              "[5 rows x 16 columns]"
            ]
          },
          "metadata": {
            "tags": []
          },
          "execution_count": 10
        }
      ]
    },
    {
      "cell_type": "code",
      "metadata": {
        "id": "R7knEFTfl52p"
      },
      "source": [
        "def knn_train_test(train_col, tgt_col, df):\n",
        "  cars_train, cars_test = train_test_split(df, test_size=0.5, random_state=1)\n",
        "  knn = KNeighborsRegressor(algorithm='brute')\n",
        "  knn.fit(cars_train[[train_col]], cars_train[tgt_col])\n",
        "  price_predictions = knn.predict(cars_test[[train_col]])\n",
        "  rmse = mean_squared_error(cars_test[[train_col]], price_predictions) ** (1/2)\n",
        "  return rmse"
      ],
      "execution_count": 11,
      "outputs": []
    },
    {
      "cell_type": "code",
      "metadata": {
        "colab": {
          "base_uri": "https://localhost:8080/"
        },
        "id": "bU3TrRHTtyxA",
        "outputId": "54a2f513-23ee-454b-8042-62296f5aceec"
      },
      "source": [
        "all_col = cars_norm.columns\n",
        "all_col = all_col.drop(['price'])\n",
        "print(all_col)"
      ],
      "execution_count": 12,
      "outputs": [
        {
          "output_type": "stream",
          "text": [
            "Index(['symboling', 'normalized_losses', 'wheel_base', 'length', 'width',\n",
            "       'height', 'curb_weight', 'engine_size', 'bore', 'stroke',\n",
            "       'compression_ratio', 'horsepower', 'peak_rpm', 'city_mpg',\n",
            "       'highway_mpg'],\n",
            "      dtype='object')\n"
          ],
          "name": "stdout"
        }
      ]
    },
    {
      "cell_type": "code",
      "metadata": {
        "colab": {
          "base_uri": "https://localhost:8080/"
        },
        "id": "dCceZrkQuVVQ",
        "outputId": "f1e7f37f-713c-44eb-e2ea-ef68869cfa61"
      },
      "source": [
        "col_rmse = dict()\n",
        "for col in all_col:\n",
        "  col_rmse[col] = knn_train_test(col, 'price', cars_norm)\n",
        "\n",
        "print(col_rmse)"
      ],
      "execution_count": 13,
      "outputs": [
        {
          "output_type": "stream",
          "text": [
            "{'symboling': 18456.76250041304, 'normalized_losses': 13479.775227199387, 'wheel_base': 14505.719639067049, 'length': 13457.76853679034, 'width': 13838.819977769874, 'height': 14452.73590344872, 'curb_weight': 14692.06687297445, 'engine_size': 14856.93115720021, 'bore': 13526.98018618818, 'stroke': 13848.219318165393, 'compression_ratio': 15830.608403778013, 'horsepower': 15344.293077048636, 'peak_rpm': 14116.777023547627, 'city_mpg': 14064.382339281974, 'highway_mpg': 14129.206813219167}\n"
          ],
          "name": "stdout"
        }
      ]
    },
    {
      "cell_type": "code",
      "metadata": {
        "colab": {
          "base_uri": "https://localhost:8080/"
        },
        "id": "nsZ41Gd7Arv5",
        "outputId": "e22d8562-3c2a-4125-badd-a6384cc0759a"
      },
      "source": [
        "min_rmse_value = min(col_rmse.values())\n",
        "min_rmse_col = [key for key in col_rmse.keys() if col_rmse[key] == min(col_rmse.values())]\n",
        "\n",
        "print('For univariate regression with default k = 5, we get the minimum error of ', min_rmse_value, 'in price predictions for -', min_rmse_col)"
      ],
      "execution_count": 14,
      "outputs": [
        {
          "output_type": "stream",
          "text": [
            "For univariate regression with default k = 5, we get the minimum error of  13457.76853679034 in price predictions for - ['length']\n"
          ],
          "name": "stdout"
        }
      ]
    },
    {
      "cell_type": "code",
      "metadata": {
        "id": "6wsKxRGFPG-7"
      },
      "source": [
        "# Modifiying the univariate regression function we created above to include k-value as a hyperparameter\n",
        "def knn_train_test_variable_k(train_col, tgt_col, df, k):\n",
        "  cars_train, cars_test = train_test_split(df, test_size=0.5, random_state=1)\n",
        "  knn = KNeighborsRegressor(algorithm='brute', n_neighbors=k)\n",
        "  knn.fit(cars_train[[train_col]], cars_train[tgt_col])\n",
        "  price_predictions = knn.predict(cars_test[[train_col]])\n",
        "  rmse = mean_squared_error(cars_test[[train_col]], price_predictions) ** (1/2)\n",
        "  return rmse"
      ],
      "execution_count": 15,
      "outputs": []
    },
    {
      "cell_type": "code",
      "metadata": {
        "id": "lZZ7GmtVPVpI",
        "colab": {
          "base_uri": "https://localhost:8080/"
        },
        "outputId": "1cf082c0-aad3-4161-d9f7-1d92449bd572"
      },
      "source": [
        "# Re-running the univariate regression function, with the new hyperparameter values \n",
        "col_rmse_k = []\n",
        "k_val = [1,3,5,7,9]\n",
        "for col in all_col:\n",
        "  for k in k_val:\n",
        "    col_rmse_k.append([col, k, knn_train_test_variable_k(col, 'price', cars_norm,k)])\n",
        "\n",
        "print(col_rmse_k)\n",
        "\n",
        "# Converting the list above into a dataframe for ease of analysis and plotting -\n",
        "col_rmse_k_df = pd.DataFrame(col_rmse_k)\n",
        "col_rmse_k_df.columns=['col', 'k_val', 'rmse']\n",
        "print(col_rmse_k_df.shape)\n",
        "print(col_rmse_k_df.head(2))"
      ],
      "execution_count": 16,
      "outputs": [
        {
          "output_type": "stream",
          "text": [
            "[['symboling', 1, 18918.866910400055], ['symboling', 3, 14833.508729348143], ['symboling', 5, 18456.76250041304], ['symboling', 7, 16471.246269961728], ['symboling', 9, 16062.155893374758], ['normalized_losses', 1, 14357.232823328264], ['normalized_losses', 3, 16111.012457259607], ['normalized_losses', 5, 13479.775227199387], ['normalized_losses', 7, 13292.920534550887], ['normalized_losses', 9, 12864.812918110336], ['wheel_base', 1, 14168.324835169322], ['wheel_base', 3, 13995.611080561937], ['wheel_base', 5, 14505.719639067049], ['wheel_base', 7, 14343.24959555942], ['wheel_base', 9, 14266.973333737042], ['length', 1, 14594.975640452903], ['length', 3, 13393.363555769982], ['length', 5, 13457.76853679034], ['length', 7, 13478.586385346089], ['length', 9, 13588.318683692602], ['width', 1, 14837.272306404513], ['width', 3, 14334.479913480836], ['width', 5, 13838.819977769874], ['width', 7, 13673.870985829442], ['width', 9, 13720.62043867801], ['height', 1, 12564.875749168354], ['height', 3, 13500.219067130247], ['height', 5, 14452.73590344872], ['height', 7, 14135.310885857003], ['height', 9, 14051.39602540529], ['curb_weight', 1, 15304.33270608032], ['curb_weight', 3, 14511.39903511021], ['curb_weight', 5, 14692.06687297445], ['curb_weight', 7, 14777.273721705991], ['curb_weight', 9, 14397.689901556781], ['engine_size', 1, 15101.913757743438], ['engine_size', 3, 15022.916455165869], ['engine_size', 5, 14856.93115720021], ['engine_size', 7, 14584.805702371317], ['engine_size', 9, 14061.929310877544], ['bore', 1, 16049.797514544272], ['bore', 3, 14207.334119911762], ['bore', 5, 13526.98018618818], ['bore', 7, 13476.428858565228], ['bore', 9, 13379.357605615727], ['stroke', 1, 18817.49531397275], ['stroke', 3, 15380.48426496885], ['stroke', 5, 13848.219318165393], ['stroke', 7, 13572.24593863107], ['stroke', 9, 13167.446693223374], ['compression_ratio', 1, 19496.06478012091], ['compression_ratio', 3, 16940.502598201812], ['compression_ratio', 5, 15830.608403778013], ['compression_ratio', 7, 14512.837086409834], ['compression_ratio', 9, 14182.305801163542], ['horsepower', 1, 15690.440466160278], ['horsepower', 3, 16449.279514006677], ['horsepower', 5, 15344.293077048636], ['horsepower', 7, 15016.272241553492], ['horsepower', 9, 14464.77389407219], ['peak_rpm', 1, 17088.557095787743], ['peak_rpm', 3, 15617.850904284236], ['peak_rpm', 5, 14116.777023547627], ['peak_rpm', 7, 14361.364456742192], ['peak_rpm', 9, 14111.403976761272], ['city_mpg', 1, 14915.846379494871], ['city_mpg', 3, 14593.056734166845], ['city_mpg', 5, 14064.382339281974], ['city_mpg', 7, 13835.70818849427], ['city_mpg', 9, 13645.542121735449], ['highway_mpg', 1, 13408.097535293564], ['highway_mpg', 3, 14409.746134411953], ['highway_mpg', 5, 14129.206813219167], ['highway_mpg', 7, 14056.067939803717], ['highway_mpg', 9, 13538.076142976148]]\n",
            "(75, 3)\n",
            "         col  k_val          rmse\n",
            "0  symboling      1  18918.866910\n",
            "1  symboling      3  14833.508729\n"
          ],
          "name": "stdout"
        }
      ]
    },
    {
      "cell_type": "markdown",
      "metadata": {
        "id": "3Y7qKcf_kwbt"
      },
      "source": [
        "The following scatter plot shows us how varying the hyperparameter, i.e. the number of neighbors analyzed for univariate regression, affects the error in price predictions across many possible features impacting the price of a car.\n",
        "\n",
        "With the default k value of 5, the variable length appears to be the most promising feature, giving the minimum error. Symboling shows as the least promising feature, with consistently high error values across multiple hyperparameters."
      ]
    },
    {
      "cell_type": "code",
      "metadata": {
        "colab": {
          "base_uri": "https://localhost:8080/",
          "height": 386
        },
        "id": "oguZvlcCh9Q2",
        "outputId": "f0dd2316-67aa-482b-da34-56d990646a2f"
      },
      "source": [
        "fg = seaborn.FacetGrid(data=col_rmse_k_df, hue='col', aspect=3, height=5)\n",
        "fg.map(pyplot.scatter, 'k_val', 'rmse').add_legend()"
      ],
      "execution_count": 17,
      "outputs": [
        {
          "output_type": "execute_result",
          "data": {
            "text/plain": [
              "<seaborn.axisgrid.FacetGrid at 0x7fe603f49250>"
            ]
          },
          "metadata": {
            "tags": []
          },
          "execution_count": 17
        },
        {
          "output_type": "display_data",
          "data": {
            "image/png": "[encoded data removed]",
            "text/plain": [
              "<Figure size 1220.97x360 with 1 Axes>"
            ]
          },
          "metadata": {
            "tags": [],
            "needs_background": "light"
          }
        }
      ]
    },
    {
      "cell_type": "code",
      "metadata": {
        "id": "sJKI0U8UmKqL"
      },
      "source": [
        "# Modifiying the regression function we created above to accept multiple feature columns to predict the car price. \n",
        "# Here we are using the default k-value of 5\n",
        "def knn_train_test_multi(train_cols, tgt_col, df):\n",
        "  cars_train, cars_test = train_test_split(df, test_size=0.5, random_state=1)\n",
        "  knn = KNeighborsRegressor(algorithm='brute')\n",
        "  knn.fit(cars_train[train_cols], cars_train[tgt_col])\n",
        "  price_predictions = knn.predict(cars_test[train_cols])\n",
        "  rmse = mean_squared_error(cars_test[tgt_col], price_predictions) ** (1/2)\n",
        "  return rmse"
      ],
      "execution_count": 20,
      "outputs": []
    },
    {
      "cell_type": "code",
      "metadata": {
        "colab": {
          "base_uri": "https://localhost:8080/"
        },
        "id": "PhFaKQsomy5K",
        "outputId": "cbe373fb-4ae6-4353-b1b4-47bfdea10703"
      },
      "source": [
        "cols_2 = col_rmse_k_df.loc[col_rmse_k_df['k_val']==5].sort_values(by=['rmse'], ascending=True)[:2]['col']\n",
        "multi_rmse_2 = knn_train_test_multi(cols_2, 'price', cars_norm)\n",
        "\n",
        "cols_3 = col_rmse_k_df.loc[col_rmse_k_df['k_val']==5].sort_values(by=['rmse'], ascending=True)[:3]['col']\n",
        "multi_rmse_3 = knn_train_test_multi(cols_3, 'price', cars_norm)\n",
        "\n",
        "cols_4 = col_rmse_k_df.loc[col_rmse_k_df['k_val']==5].sort_values(by=['rmse'], ascending=True)[:4]['col']\n",
        "multi_rmse_4 = knn_train_test_multi(cols_4, 'price', cars_norm)\n",
        "\n",
        "cols_5 = col_rmse_k_df.loc[col_rmse_k_df['k_val']==5].sort_values(by=['rmse'], ascending=True)[:5]['col']\n",
        "multi_rmse_5 = knn_train_test_multi(cols_5, 'price', cars_norm)\n",
        "\n",
        "print('Multivariate regression results with default k-value of 5 - ')\n",
        "print('',cols_2.values, multi_rmse_2, '\\n',cols_3.values, multi_rmse_3, '\\n', cols_4.values, multi_rmse_4, '\\n', cols_5.values, multi_rmse_5)"
      ],
      "execution_count": 42,
      "outputs": [
        {
          "output_type": "stream",
          "text": [
            "Multivariate regression results with default k-value of 5 - \n",
            " ['length' 'normalized_losses'] 5241.64522055283 \n",
            " ['length' 'normalized_losses' 'bore'] 5384.83571607084 \n",
            " ['length' 'normalized_losses' 'bore' 'width'] 5443.759169892971 \n",
            " ['length' 'normalized_losses' 'bore' 'width' 'stroke'] 5278.796525099453\n"
          ],
          "name": "stdout"
        }
      ]
    }
  ]
}