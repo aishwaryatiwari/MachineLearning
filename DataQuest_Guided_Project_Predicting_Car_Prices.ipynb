{
  "nbformat": 4,
  "nbformat_minor": 0,
  "metadata": {
    "colab": {
      "name": "Guided Project: Predicting Car Prices.ipynb",
      "provenance": [],
      "collapsed_sections": [],
      "authorship_tag": "ABX9TyN++fve1TmDTUPJyTL+rsCW",
      "include_colab_link": true
    },
    "kernelspec": {
      "name": "python3",
      "display_name": "Python 3"
    },
    "language_info": {
      "name": "python"
    }
  },
  "cells": [
    {
      "cell_type": "markdown",
      "metadata": {
        "id": "view-in-github",
        "colab_type": "text"
      },
      "source": [
        "<a href=\"https://colab.research.google.com/github/aishwaryatiwari/MachineLearning/blob/main/DataQuest_Guided_Project_Predicting_Car_Prices.ipynb\" target=\"_parent\"><img src=\"https://colab.research.google.com/assets/colab-badge.svg\" alt=\"Open In Colab\"/></a>"
      ]
    },
    {
      "cell_type": "code",
      "metadata": {
        "id": "Le91KT-UWXe9"
      },
      "source": [
        "# Import libraries as needed\n",
        "import pandas as pd\n",
        "import numpy as np\n",
        "from sklearn.neighbors import KNeighborsRegressor\n",
        "from sklearn.metrics import mean_squared_error\n",
        "from sklearn.model_selection import train_test_split, cross_val_score, KFold\n",
        "from  matplotlib import pyplot as plt\n",
        "import seaborn\n",
        "seaborn.set(style='ticks')"
      ],
      "execution_count": 99,
      "outputs": []
    },
    {
      "cell_type": "code",
      "metadata": {
        "colab": {
          "base_uri": "https://localhost:8080/",
          "height": 227
        },
        "id": "bAFJdruQTuKQ",
        "outputId": "f950249b-2dfe-4bcc-c3c9-1353e755e60b"
      },
      "source": [
        "# Reading in the cars dataset into a pandas dataframe from the given URL\n",
        "cars = pd.read_csv('https://archive.ics.uci.edu/ml/machine-learning-databases/autos/imports-85.data')\n",
        "# The data does not come with headers. Assigning headers explicitly\n",
        "cars.columns = ['symboling','normalized_losses','make','fuel_type',\t'aspiration',\t'num_doors',\t'body_style',\t'drive_wheels',\t'engine_location',\\\n",
        "                'wheel_base',\t'length',\t'width',\t'height',\t'curb_weight',\t'engine_type',\t'num_cylinders',\t'engine_size',\t'fuel_system',\t'bore',\\\n",
        "                'stroke',\t'compression_ratio',\t'horsepower',\t'peak_rpm',\t'city_mpg',\t'highway_mpg',\t'price']\n",
        "#cars.info()\n",
        "cars.head(4)"
      ],
      "execution_count": 72,
      "outputs": [
        {
          "output_type": "execute_result",
          "data": {
            "text/html": [
              "<div>\n",
              "<style scoped>\n",
              "    .dataframe tbody tr th:only-of-type {\n",
              "        vertical-align: middle;\n",
              "    }\n",
              "\n",
              "    .dataframe tbody tr th {\n",
              "        vertical-align: top;\n",
              "    }\n",
              "\n",
              "    .dataframe thead th {\n",
              "        text-align: right;\n",
              "    }\n",
              "</style>\n",
              "<table border=\"1\" class=\"dataframe\">\n",
              "  <thead>\n",
              "    <tr style=\"text-align: right;\">\n",
              "      <th></th>\n",
              "      <th>symboling</th>\n",
              "      <th>normalized_losses</th>\n",
              "      <th>make</th>\n",
              "      <th>fuel_type</th>\n",
              "      <th>aspiration</th>\n",
              "      <th>num_doors</th>\n",
              "      <th>body_style</th>\n",
              "      <th>drive_wheels</th>\n",
              "      <th>engine_location</th>\n",
              "      <th>wheel_base</th>\n",
              "      <th>length</th>\n",
              "      <th>width</th>\n",
              "      <th>height</th>\n",
              "      <th>curb_weight</th>\n",
              "      <th>engine_type</th>\n",
              "      <th>num_cylinders</th>\n",
              "      <th>engine_size</th>\n",
              "      <th>fuel_system</th>\n",
              "      <th>bore</th>\n",
              "      <th>stroke</th>\n",
              "      <th>compression_ratio</th>\n",
              "      <th>horsepower</th>\n",
              "      <th>peak_rpm</th>\n",
              "      <th>city_mpg</th>\n",
              "      <th>highway_mpg</th>\n",
              "      <th>price</th>\n",
              "    </tr>\n",
              "  </thead>\n",
              "  <tbody>\n",
              "    <tr>\n",
              "      <th>0</th>\n",
              "      <td>3</td>\n",
              "      <td>?</td>\n",
              "      <td>alfa-romero</td>\n",
              "      <td>gas</td>\n",
              "      <td>std</td>\n",
              "      <td>two</td>\n",
              "      <td>convertible</td>\n",
              "      <td>rwd</td>\n",
              "      <td>front</td>\n",
              "      <td>88.6</td>\n",
              "      <td>168.8</td>\n",
              "      <td>64.1</td>\n",
              "      <td>48.8</td>\n",
              "      <td>2548</td>\n",
              "      <td>dohc</td>\n",
              "      <td>four</td>\n",
              "      <td>130</td>\n",
              "      <td>mpfi</td>\n",
              "      <td>3.47</td>\n",
              "      <td>2.68</td>\n",
              "      <td>9.0</td>\n",
              "      <td>111</td>\n",
              "      <td>5000</td>\n",
              "      <td>21</td>\n",
              "      <td>27</td>\n",
              "      <td>16500</td>\n",
              "    </tr>\n",
              "    <tr>\n",
              "      <th>1</th>\n",
              "      <td>1</td>\n",
              "      <td>?</td>\n",
              "      <td>alfa-romero</td>\n",
              "      <td>gas</td>\n",
              "      <td>std</td>\n",
              "      <td>two</td>\n",
              "      <td>hatchback</td>\n",
              "      <td>rwd</td>\n",
              "      <td>front</td>\n",
              "      <td>94.5</td>\n",
              "      <td>171.2</td>\n",
              "      <td>65.5</td>\n",
              "      <td>52.4</td>\n",
              "      <td>2823</td>\n",
              "      <td>ohcv</td>\n",
              "      <td>six</td>\n",
              "      <td>152</td>\n",
              "      <td>mpfi</td>\n",
              "      <td>2.68</td>\n",
              "      <td>3.47</td>\n",
              "      <td>9.0</td>\n",
              "      <td>154</td>\n",
              "      <td>5000</td>\n",
              "      <td>19</td>\n",
              "      <td>26</td>\n",
              "      <td>16500</td>\n",
              "    </tr>\n",
              "    <tr>\n",
              "      <th>2</th>\n",
              "      <td>2</td>\n",
              "      <td>164</td>\n",
              "      <td>audi</td>\n",
              "      <td>gas</td>\n",
              "      <td>std</td>\n",
              "      <td>four</td>\n",
              "      <td>sedan</td>\n",
              "      <td>fwd</td>\n",
              "      <td>front</td>\n",
              "      <td>99.8</td>\n",
              "      <td>176.6</td>\n",
              "      <td>66.2</td>\n",
              "      <td>54.3</td>\n",
              "      <td>2337</td>\n",
              "      <td>ohc</td>\n",
              "      <td>four</td>\n",
              "      <td>109</td>\n",
              "      <td>mpfi</td>\n",
              "      <td>3.19</td>\n",
              "      <td>3.40</td>\n",
              "      <td>10.0</td>\n",
              "      <td>102</td>\n",
              "      <td>5500</td>\n",
              "      <td>24</td>\n",
              "      <td>30</td>\n",
              "      <td>13950</td>\n",
              "    </tr>\n",
              "    <tr>\n",
              "      <th>3</th>\n",
              "      <td>2</td>\n",
              "      <td>164</td>\n",
              "      <td>audi</td>\n",
              "      <td>gas</td>\n",
              "      <td>std</td>\n",
              "      <td>four</td>\n",
              "      <td>sedan</td>\n",
              "      <td>4wd</td>\n",
              "      <td>front</td>\n",
              "      <td>99.4</td>\n",
              "      <td>176.6</td>\n",
              "      <td>66.4</td>\n",
              "      <td>54.3</td>\n",
              "      <td>2824</td>\n",
              "      <td>ohc</td>\n",
              "      <td>five</td>\n",
              "      <td>136</td>\n",
              "      <td>mpfi</td>\n",
              "      <td>3.19</td>\n",
              "      <td>3.40</td>\n",
              "      <td>8.0</td>\n",
              "      <td>115</td>\n",
              "      <td>5500</td>\n",
              "      <td>18</td>\n",
              "      <td>22</td>\n",
              "      <td>17450</td>\n",
              "    </tr>\n",
              "  </tbody>\n",
              "</table>\n",
              "</div>"
            ],
            "text/plain": [
              "   symboling normalized_losses         make  ... city_mpg highway_mpg  price\n",
              "0          3                 ?  alfa-romero  ...       21          27  16500\n",
              "1          1                 ?  alfa-romero  ...       19          26  16500\n",
              "2          2               164         audi  ...       24          30  13950\n",
              "3          2               164         audi  ...       18          22  17450\n",
              "\n",
              "[4 rows x 26 columns]"
            ]
          },
          "metadata": {
            "tags": []
          },
          "execution_count": 72
        }
      ]
    },
    {
      "cell_type": "code",
      "metadata": {
        "colab": {
          "base_uri": "https://localhost:8080/"
        },
        "id": "79LSGC-NWqSw",
        "outputId": "b4a3193f-2b07-478a-e9f8-324a649883c0"
      },
      "source": [
        "# Replacing '?' values with NAN. We will eventually need to remove all rows where cells used in the model have missing values\n",
        "cars = cars.replace('?', np.nan)\n",
        "\n",
        "# Correcting datatypes to ensure int and float columns are not represented as objects\n",
        "cars = cars.astype({'normalized_losses':'float', 'bore':'float', 'stroke':'float', 'horsepower':'float', 'peak_rpm':'float', 'price':'float'})\n",
        "# Check updated datatypes\n",
        "# cars.dtypes\n",
        "\n",
        "# 40 out of 204, i.e. 20% records have missing values for normalized losses. We need to explore the best strategy to handle these cases\n",
        "print('All Records - ', cars.shape, 'Records with null normalized losses - ', np.isnan(cars.normalized_losses).sum())\n",
        "\n",
        "# Exploring the values of other columns where normalized losses is null - \n",
        "cars.loc[cars['normalized_losses'].isnull()].isna().sum()"
      ],
      "execution_count": 73,
      "outputs": [
        {
          "output_type": "stream",
          "text": [
            "All Records -  (204, 26) Records with null normalized losses -  40\n"
          ],
          "name": "stdout"
        },
        {
          "output_type": "execute_result",
          "data": {
            "text/plain": [
              "symboling             0\n",
              "normalized_losses    40\n",
              "make                  0\n",
              "fuel_type             0\n",
              "aspiration            0\n",
              "num_doors             1\n",
              "body_style            0\n",
              "drive_wheels          0\n",
              "engine_location       0\n",
              "wheel_base            0\n",
              "length                0\n",
              "width                 0\n",
              "height                0\n",
              "curb_weight           0\n",
              "engine_type           0\n",
              "num_cylinders         0\n",
              "engine_size           0\n",
              "fuel_system           0\n",
              "bore                  0\n",
              "stroke                0\n",
              "compression_ratio     0\n",
              "horsepower            2\n",
              "peak_rpm              2\n",
              "city_mpg              0\n",
              "highway_mpg           0\n",
              "price                 4\n",
              "dtype: int64"
            ]
          },
          "metadata": {
            "tags": []
          },
          "execution_count": 73
        }
      ]
    },
    {
      "cell_type": "code",
      "metadata": {
        "colab": {
          "base_uri": "https://localhost:8080/"
        },
        "id": "8LO_nJC7WhQd",
        "outputId": "a370299a-95fe-4a9a-bfa6-2a66b74b9546"
      },
      "source": [
        "print('All records - ', cars.shape)\n",
        "# Removing records from the dataframe where normalized losses and price is null - \n",
        "cars = cars.loc[~((cars.normalized_losses.isnull()) & (cars.price.isnull()))]\n",
        "print('Records after removing rows with null price column - ', cars.shape)\n",
        "\n",
        "# Few rows have other columns as null, alongwith normalized_losses being null. These are removed as well - \n",
        "cars = cars.loc[~((cars.normalized_losses.isnull()) & ((cars.num_doors.isnull()) | (cars.horsepower.isnull()) | (cars.peak_rpm.isnull())))]\n",
        "cars = cars.loc[~((cars.bore.isnull()) | (cars.stroke.isnull()))]\n",
        "print('Records after removing rows with other null columns - ', cars.shape)\n",
        "\n",
        "# Removing Object-type columns from the dataframe\n",
        "cars = cars.drop(columns={'make','fuel_type', 'aspiration', 'num_doors', 'body_style', 'drive_wheels', 'engine_location', 'engine_type',\\\n",
        "                          'num_cylinders','fuel_system'})\n",
        "print('Records after removing columns with Object datatype - ', cars.shape)"
      ],
      "execution_count": 74,
      "outputs": [
        {
          "output_type": "stream",
          "text": [
            "All records -  (204, 26)\n",
            "Records after removing rows with null price column -  (200, 26)\n",
            "Records after removing rows with other null columns -  (193, 26)\n",
            "Records after removing columns with Object datatype -  (193, 16)\n"
          ],
          "name": "stdout"
        }
      ]
    },
    {
      "cell_type": "code",
      "metadata": {
        "colab": {
          "base_uri": "https://localhost:8080/",
          "height": 131
        },
        "id": "TdwBAfwDN4fc",
        "outputId": "f0998dd0-4a70-42f3-b07d-99b99577871d"
      },
      "source": [
        "# Proportionally large number of rows have null values for normalized losses. Setting the normalized losses column to the mean value of the column\n",
        "cars.loc[cars['normalized_losses'].isnull(), 'normalized_losses'] = cars.normalized_losses.mean()\n",
        "\n",
        "# Validate to see that no columns should have any null values now - \n",
        "# cars.loc[cars['normalized_losses'].isnull()].isna().sum()\n",
        "\n",
        "# After the row deletions above, reseting index to be sequential again\n",
        "cars = cars.reset_index().drop(columns='index')\n",
        "cars.head(2)"
      ],
      "execution_count": 77,
      "outputs": [
        {
          "output_type": "execute_result",
          "data": {
            "text/html": [
              "<div>\n",
              "<style scoped>\n",
              "    .dataframe tbody tr th:only-of-type {\n",
              "        vertical-align: middle;\n",
              "    }\n",
              "\n",
              "    .dataframe tbody tr th {\n",
              "        vertical-align: top;\n",
              "    }\n",
              "\n",
              "    .dataframe thead th {\n",
              "        text-align: right;\n",
              "    }\n",
              "</style>\n",
              "<table border=\"1\" class=\"dataframe\">\n",
              "  <thead>\n",
              "    <tr style=\"text-align: right;\">\n",
              "      <th></th>\n",
              "      <th>symboling</th>\n",
              "      <th>normalized_losses</th>\n",
              "      <th>wheel_base</th>\n",
              "      <th>length</th>\n",
              "      <th>width</th>\n",
              "      <th>height</th>\n",
              "      <th>curb_weight</th>\n",
              "      <th>engine_size</th>\n",
              "      <th>bore</th>\n",
              "      <th>stroke</th>\n",
              "      <th>compression_ratio</th>\n",
              "      <th>horsepower</th>\n",
              "      <th>peak_rpm</th>\n",
              "      <th>city_mpg</th>\n",
              "      <th>highway_mpg</th>\n",
              "      <th>price</th>\n",
              "    </tr>\n",
              "  </thead>\n",
              "  <tbody>\n",
              "    <tr>\n",
              "      <th>0</th>\n",
              "      <td>3</td>\n",
              "      <td>121.3</td>\n",
              "      <td>88.6</td>\n",
              "      <td>168.8</td>\n",
              "      <td>64.1</td>\n",
              "      <td>48.8</td>\n",
              "      <td>2548</td>\n",
              "      <td>130</td>\n",
              "      <td>3.47</td>\n",
              "      <td>2.68</td>\n",
              "      <td>9.0</td>\n",
              "      <td>111.0</td>\n",
              "      <td>5000.0</td>\n",
              "      <td>21</td>\n",
              "      <td>27</td>\n",
              "      <td>16500.0</td>\n",
              "    </tr>\n",
              "    <tr>\n",
              "      <th>1</th>\n",
              "      <td>1</td>\n",
              "      <td>121.3</td>\n",
              "      <td>94.5</td>\n",
              "      <td>171.2</td>\n",
              "      <td>65.5</td>\n",
              "      <td>52.4</td>\n",
              "      <td>2823</td>\n",
              "      <td>152</td>\n",
              "      <td>2.68</td>\n",
              "      <td>3.47</td>\n",
              "      <td>9.0</td>\n",
              "      <td>154.0</td>\n",
              "      <td>5000.0</td>\n",
              "      <td>19</td>\n",
              "      <td>26</td>\n",
              "      <td>16500.0</td>\n",
              "    </tr>\n",
              "  </tbody>\n",
              "</table>\n",
              "</div>"
            ],
            "text/plain": [
              "   symboling  normalized_losses  wheel_base  ...  city_mpg  highway_mpg    price\n",
              "0          3              121.3        88.6  ...        21           27  16500.0\n",
              "1          1              121.3        94.5  ...        19           26  16500.0\n",
              "\n",
              "[2 rows x 16 columns]"
            ]
          },
          "metadata": {
            "tags": []
          },
          "execution_count": 77
        }
      ]
    },
    {
      "cell_type": "code",
      "metadata": {
        "colab": {
          "base_uri": "https://localhost:8080/",
          "height": 224
        },
        "id": "xe8_QMFcREfc",
        "outputId": "1ec26340-6822-400a-f1d2-2a27461493e6"
      },
      "source": [
        "# There can be many ways of normalization. One being Mean-normalization. This results in a mean of 0 and standard deviation of 0 for the numeric values\n",
        "# in the dataframe and can be achieved as follows - cars_norm = (cars - cars.mean())/cars.std()\n",
        "# Another method can be getting the values to fall between 0 and 1 as follows - \n",
        "cars_norm = (cars - cars.min())/(cars.max()-cars.min())\n",
        "# Set price column back to the original price values\n",
        "cars_norm['price'] = cars['price']\n",
        "cars_norm.head()"
      ],
      "execution_count": 58,
      "outputs": [
        {
          "output_type": "execute_result",
          "data": {
            "text/html": [
              "<div>\n",
              "<style scoped>\n",
              "    .dataframe tbody tr th:only-of-type {\n",
              "        vertical-align: middle;\n",
              "    }\n",
              "\n",
              "    .dataframe tbody tr th {\n",
              "        vertical-align: top;\n",
              "    }\n",
              "\n",
              "    .dataframe thead th {\n",
              "        text-align: right;\n",
              "    }\n",
              "</style>\n",
              "<table border=\"1\" class=\"dataframe\">\n",
              "  <thead>\n",
              "    <tr style=\"text-align: right;\">\n",
              "      <th></th>\n",
              "      <th>symboling</th>\n",
              "      <th>normalized_losses</th>\n",
              "      <th>wheel_base</th>\n",
              "      <th>length</th>\n",
              "      <th>width</th>\n",
              "      <th>height</th>\n",
              "      <th>curb_weight</th>\n",
              "      <th>engine_size</th>\n",
              "      <th>bore</th>\n",
              "      <th>stroke</th>\n",
              "      <th>compression_ratio</th>\n",
              "      <th>horsepower</th>\n",
              "      <th>peak_rpm</th>\n",
              "      <th>city_mpg</th>\n",
              "      <th>highway_mpg</th>\n",
              "      <th>price</th>\n",
              "    </tr>\n",
              "  </thead>\n",
              "  <tbody>\n",
              "    <tr>\n",
              "      <th>0</th>\n",
              "      <td>1.0</td>\n",
              "      <td>0.294764</td>\n",
              "      <td>0.058309</td>\n",
              "      <td>0.413433</td>\n",
              "      <td>0.324786</td>\n",
              "      <td>0.083333</td>\n",
              "      <td>0.411171</td>\n",
              "      <td>0.260377</td>\n",
              "      <td>0.664286</td>\n",
              "      <td>0.290476</td>\n",
              "      <td>0.12500</td>\n",
              "      <td>0.294393</td>\n",
              "      <td>0.346939</td>\n",
              "      <td>0.222222</td>\n",
              "      <td>0.289474</td>\n",
              "      <td>16500.0</td>\n",
              "    </tr>\n",
              "    <tr>\n",
              "      <th>1</th>\n",
              "      <td>0.6</td>\n",
              "      <td>0.294764</td>\n",
              "      <td>0.230321</td>\n",
              "      <td>0.449254</td>\n",
              "      <td>0.444444</td>\n",
              "      <td>0.383333</td>\n",
              "      <td>0.517843</td>\n",
              "      <td>0.343396</td>\n",
              "      <td>0.100000</td>\n",
              "      <td>0.666667</td>\n",
              "      <td>0.12500</td>\n",
              "      <td>0.495327</td>\n",
              "      <td>0.346939</td>\n",
              "      <td>0.166667</td>\n",
              "      <td>0.263158</td>\n",
              "      <td>16500.0</td>\n",
              "    </tr>\n",
              "    <tr>\n",
              "      <th>2</th>\n",
              "      <td>0.8</td>\n",
              "      <td>0.518325</td>\n",
              "      <td>0.384840</td>\n",
              "      <td>0.529851</td>\n",
              "      <td>0.504274</td>\n",
              "      <td>0.541667</td>\n",
              "      <td>0.329325</td>\n",
              "      <td>0.181132</td>\n",
              "      <td>0.464286</td>\n",
              "      <td>0.633333</td>\n",
              "      <td>0.18750</td>\n",
              "      <td>0.252336</td>\n",
              "      <td>0.551020</td>\n",
              "      <td>0.305556</td>\n",
              "      <td>0.368421</td>\n",
              "      <td>13950.0</td>\n",
              "    </tr>\n",
              "    <tr>\n",
              "      <th>3</th>\n",
              "      <td>0.8</td>\n",
              "      <td>0.518325</td>\n",
              "      <td>0.373178</td>\n",
              "      <td>0.529851</td>\n",
              "      <td>0.521368</td>\n",
              "      <td>0.541667</td>\n",
              "      <td>0.518231</td>\n",
              "      <td>0.283019</td>\n",
              "      <td>0.464286</td>\n",
              "      <td>0.633333</td>\n",
              "      <td>0.06250</td>\n",
              "      <td>0.313084</td>\n",
              "      <td>0.551020</td>\n",
              "      <td>0.138889</td>\n",
              "      <td>0.157895</td>\n",
              "      <td>17450.0</td>\n",
              "    </tr>\n",
              "    <tr>\n",
              "      <th>4</th>\n",
              "      <td>0.8</td>\n",
              "      <td>0.294764</td>\n",
              "      <td>0.384840</td>\n",
              "      <td>0.540299</td>\n",
              "      <td>0.512821</td>\n",
              "      <td>0.441667</td>\n",
              "      <td>0.395268</td>\n",
              "      <td>0.283019</td>\n",
              "      <td>0.464286</td>\n",
              "      <td>0.633333</td>\n",
              "      <td>0.09375</td>\n",
              "      <td>0.289720</td>\n",
              "      <td>0.551020</td>\n",
              "      <td>0.166667</td>\n",
              "      <td>0.236842</td>\n",
              "      <td>15250.0</td>\n",
              "    </tr>\n",
              "  </tbody>\n",
              "</table>\n",
              "</div>"
            ],
            "text/plain": [
              "   symboling  normalized_losses  wheel_base  ...  city_mpg  highway_mpg    price\n",
              "0        1.0           0.294764    0.058309  ...  0.222222     0.289474  16500.0\n",
              "1        0.6           0.294764    0.230321  ...  0.166667     0.263158  16500.0\n",
              "2        0.8           0.518325    0.384840  ...  0.305556     0.368421  13950.0\n",
              "3        0.8           0.518325    0.373178  ...  0.138889     0.157895  17450.0\n",
              "4        0.8           0.294764    0.384840  ...  0.166667     0.236842  15250.0\n",
              "\n",
              "[5 rows x 16 columns]"
            ]
          },
          "metadata": {
            "tags": []
          },
          "execution_count": 58
        }
      ]
    },
    {
      "cell_type": "code",
      "metadata": {
        "id": "R7knEFTfl52p"
      },
      "source": [
        "def knn_train_test(train_col, tgt_col, df):\n",
        "  cars_train, cars_test = train_test_split(df, test_size=0.3, random_state=1)\n",
        "  knn = KNeighborsRegressor(algorithm='brute')\n",
        "  knn.fit(cars_train[[train_col]], cars_train[tgt_col])\n",
        "  price_predictions = knn.predict(cars_test[[train_col]])\n",
        "  rmse = mean_squared_error(cars_test[[train_col]], price_predictions) ** (1/2)\n",
        "  return rmse"
      ],
      "execution_count": 82,
      "outputs": []
    },
    {
      "cell_type": "code",
      "metadata": {
        "colab": {
          "base_uri": "https://localhost:8080/"
        },
        "id": "bU3TrRHTtyxA",
        "outputId": "5f8b150a-7267-4925-8111-e4ea14d2b356"
      },
      "source": [
        "all_col = cars_norm.columns\n",
        "all_col = all_col.drop(['price'])\n",
        "#print(all_col)\n",
        "\n",
        "col_rmse = dict()\n",
        "for col in all_col:\n",
        "  col_rmse[col] = knn_train_test(col, 'price', cars_norm)\n",
        "\n",
        "print(col_rmse)"
      ],
      "execution_count": 83,
      "outputs": [
        {
          "output_type": "stream",
          "text": [
            "{'symboling': 11357.32805175462, 'normalized_losses': 13957.798456901886, 'wheel_base': 14347.081024554673, 'length': 14049.18119008101, 'width': 14493.414991259962, 'height': 11890.660101680987, 'curb_weight': 14102.506352348182, 'engine_size': 14323.038880446225, 'bore': 13335.937892190825, 'stroke': 12890.934207457842, 'compression_ratio': 15487.334282394044, 'horsepower': 15425.914789685761, 'peak_rpm': 14847.926857193723, 'city_mpg': 13450.611444210179, 'highway_mpg': 12816.994829863483}\n"
          ],
          "name": "stdout"
        }
      ]
    },
    {
      "cell_type": "code",
      "metadata": {
        "colab": {
          "base_uri": "https://localhost:8080/",
          "height": 427
        },
        "id": "dCceZrkQuVVQ",
        "outputId": "e39cbb05-357b-44c9-f6c1-7f4784a818a2"
      },
      "source": [
        "plt.figure(figsize=(20,6))\n",
        "plt.bar(range(len(col_rmse)), list(col_rmse.values()), align='center')\n",
        "plt.xticks(range(len(col_rmse)), list(col_rmse.keys()), rotation=20)\n",
        "plt.title('RMSE across multiple features in univariate regression')\n",
        "plt.show()"
      ],
      "execution_count": 136,
      "outputs": [
        {
          "output_type": "display_data",
          "data": {
            "image/png": "[encoded data removed]",
            "text/plain": [
              "<Figure size 1440x432 with 1 Axes>"
            ]
          },
          "metadata": {
            "tags": []
          }
        }
      ]
    },
    {
      "cell_type": "code",
      "metadata": {
        "colab": {
          "base_uri": "https://localhost:8080/"
        },
        "id": "nsZ41Gd7Arv5",
        "outputId": "3a65ecfb-83ae-4544-98ba-aa6200a29b6c"
      },
      "source": [
        "min_rmse_value = min(col_rmse.values())\n",
        "min_rmse_col = [key for key in col_rmse.keys() if col_rmse[key] == min(col_rmse.values())]\n",
        "\n",
        "print('For univariate regression with default k = 5, we get the minimum error of ', min_rmse_value, 'in price predictions for -', min_rmse_col)"
      ],
      "execution_count": 84,
      "outputs": [
        {
          "output_type": "stream",
          "text": [
            "For univariate regression with default k = 5, we get the minimum error of  11357.32805175462 in price predictions for - ['symboling']\n"
          ],
          "name": "stdout"
        }
      ]
    },
    {
      "cell_type": "code",
      "metadata": {
        "id": "6wsKxRGFPG-7"
      },
      "source": [
        "# Modifiying the univariate regression function we created above to include k-value as a hyperparameter\n",
        "def knn_train_test_variable_k(train_col, tgt_col, df, k):\n",
        "  cars_train, cars_test = train_test_split(df, test_size=0.3, random_state=1)\n",
        "  knn = KNeighborsRegressor(algorithm='brute', n_neighbors=k)\n",
        "  knn.fit(cars_train[[train_col]], cars_train[tgt_col])\n",
        "  price_predictions = knn.predict(cars_test[[train_col]])\n",
        "  rmse = mean_squared_error(cars_test[[train_col]], price_predictions) ** (1/2)\n",
        "  return rmse"
      ],
      "execution_count": 85,
      "outputs": []
    },
    {
      "cell_type": "code",
      "metadata": {
        "id": "lZZ7GmtVPVpI",
        "colab": {
          "base_uri": "https://localhost:8080/"
        },
        "outputId": "124e02a7-d977-44a4-ff51-1c5767c3fd58"
      },
      "source": [
        "# Re-running the univariate regression function, with the new hyperparameter values \n",
        "col_rmse_k = []\n",
        "k_val = [1,3,5,7,9]\n",
        "for col in all_col:\n",
        "  for k in k_val:\n",
        "    col_rmse_k.append([col, k, knn_train_test_variable_k(col, 'price', cars_norm,k)])\n",
        "\n",
        "#print(col_rmse_k)\n",
        "\n",
        "# Converting the list above into a dataframe for ease of analysis and plotting -\n",
        "col_rmse_k_df = pd.DataFrame(col_rmse_k)\n",
        "col_rmse_k_df.columns=['col', 'k_val', 'rmse']\n",
        "print(col_rmse_k_df.shape)\n",
        "print(col_rmse_k_df.head(2))"
      ],
      "execution_count": 86,
      "outputs": [
        {
          "output_type": "stream",
          "text": [
            "(75, 3)\n",
            "         col  k_val          rmse\n",
            "0  symboling      1  18815.299033\n",
            "1  symboling      3  14557.875534\n"
          ],
          "name": "stdout"
        }
      ]
    },
    {
      "cell_type": "markdown",
      "metadata": {
        "id": "3Y7qKcf_kwbt"
      },
      "source": [
        "The following scatter plot shows us how varying the hyperparameter, i.e. the number of neighbors analyzed for univariate regression, affects the error in price predictions across many possible features impacting the price of a car.\n",
        "\n",
        "With the default k value of 5, the variable length appears to be the most promising feature, giving the minimum error. Symboling shows as the least promising feature, with consistently high error values across multiple hyperparameters."
      ]
    },
    {
      "cell_type": "code",
      "metadata": {
        "colab": {
          "base_uri": "https://localhost:8080/",
          "height": 382
        },
        "id": "oguZvlcCh9Q2",
        "outputId": "4d88d7a8-b12a-410e-db8a-1e1f37f24477"
      },
      "source": [
        "fg = seaborn.FacetGrid(data=col_rmse_k_df, hue='col', aspect=3, height=5)\n",
        "fg.map(pyplot.scatter, 'k_val', 'rmse').add_legend()"
      ],
      "execution_count": 135,
      "outputs": [
        {
          "output_type": "execute_result",
          "data": {
            "text/plain": [
              "<seaborn.axisgrid.FacetGrid at 0x7f2eddff0290>"
            ]
          },
          "metadata": {
            "tags": []
          },
          "execution_count": 135
        },
        {
          "output_type": "display_data",
          "data": {
            "image/png": "[encoded data removed]",
            "text/plain": [
              "<Figure size 1220.97x360 with 1 Axes>"
            ]
          },
          "metadata": {
            "tags": []
          }
        }
      ]
    },
    {
      "cell_type": "code",
      "metadata": {
        "id": "sJKI0U8UmKqL"
      },
      "source": [
        "# Modifiying the regression function we created above to accept multiple feature columns to predict the car price. \n",
        "# Here we are using the default k-value of 5\n",
        "def knn_train_test_multi(train_cols, tgt_col, df):\n",
        "  cars_train, cars_test = train_test_split(df, test_size=0.3, random_state=1)\n",
        "  knn = KNeighborsRegressor(algorithm='brute')\n",
        "  knn.fit(cars_train[train_cols], cars_train[tgt_col])\n",
        "  price_predictions = knn.predict(cars_test[train_cols])\n",
        "  rmse = mean_squared_error(cars_test[tgt_col], price_predictions) ** (1/2)\n",
        "  return rmse"
      ],
      "execution_count": 88,
      "outputs": []
    },
    {
      "cell_type": "markdown",
      "metadata": {
        "id": "aVIKEy5K1QUR"
      },
      "source": [
        "Observing the scatter plot above, we see some features perform better in predicting price than others in the univariate model. We now use multiple columns to predict the prices and see how the error value changes. "
      ]
    },
    {
      "cell_type": "code",
      "metadata": {
        "colab": {
          "base_uri": "https://localhost:8080/"
        },
        "id": "PhFaKQsomy5K",
        "outputId": "bf2a8d59-41fc-4074-d8e4-7fae3a4cc8ca"
      },
      "source": [
        "cols_2 = col_rmse_k_df.loc[col_rmse_k_df['k_val']==5].sort_values(by=['rmse'], ascending=True)[:2]['col']\n",
        "multi_rmse_2 = knn_train_test_multi(cols_2, 'price', cars_norm)\n",
        "\n",
        "cols_3 = col_rmse_k_df.loc[col_rmse_k_df['k_val']==5].sort_values(by=['rmse'], ascending=True)[:3]['col']\n",
        "multi_rmse_3 = knn_train_test_multi(cols_3, 'price', cars_norm)\n",
        "\n",
        "cols_4 = col_rmse_k_df.loc[col_rmse_k_df['k_val']==5].sort_values(by=['rmse'], ascending=True)[:4]['col']\n",
        "multi_rmse_4 = knn_train_test_multi(cols_4, 'price', cars_norm)\n",
        "\n",
        "cols_5 = col_rmse_k_df.loc[col_rmse_k_df['k_val']==5].sort_values(by=['rmse'], ascending=True)[:5]['col']\n",
        "multi_rmse_5 = knn_train_test_multi(cols_5, 'price', cars_norm)\n",
        "\n",
        "print('Multivariate regression results with default k-value of 5 - ')\n",
        "print('',cols_2.values, multi_rmse_2, '\\n',cols_3.values, multi_rmse_3, '\\n', cols_4.values, multi_rmse_4, '\\n', cols_5.values, multi_rmse_5)"
      ],
      "execution_count": 94,
      "outputs": [
        {
          "output_type": "stream",
          "text": [
            "Multivariate regression results with default k-value of 5 - \n",
            " ['symboling' 'height'] 7115.430320812989 \n",
            " ['symboling' 'height' 'highway_mpg'] 5505.484830101956 \n",
            " ['symboling' 'height' 'highway_mpg' 'stroke'] 4559.223216960205 \n",
            " ['symboling' 'height' 'highway_mpg' 'stroke' 'bore'] 4211.766047797445\n"
          ],
          "name": "stdout"
        }
      ]
    },
    {
      "cell_type": "markdown",
      "metadata": {
        "id": "ovnXHVSSMHSE"
      },
      "source": [
        "The above multi-variate models were tested using the default neighbors value of 5. We now test optimizing the hyperparameter of neighbors to see if we can reduce the rmse error value further. \n",
        "For this, we pick the features that performed best in the above test - length and normalized losses. "
      ]
    },
    {
      "cell_type": "code",
      "metadata": {
        "id": "2Z1uSOW11uRW"
      },
      "source": [
        "# Modifiying the multi-variate regression function we created above to accept a hyperparameter in place of using the default value of 5\n",
        "# to predict the car price. \n",
        "def knn_train_test_hyp(train_cols, tgt_col, df, k_n):\n",
        "  cars_train, cars_test = train_test_split(df, test_size=0.3, random_state=1)\n",
        "  knn = KNeighborsRegressor(algorithm='brute', n_neighbors=k_n)\n",
        "  knn.fit(cars_train[train_cols], cars_train[tgt_col])\n",
        "  price_predictions = knn.predict(cars_test[train_cols])\n",
        "  rmse = mean_squared_error(cars_test[tgt_col], price_predictions) ** (1/2)\n",
        "  return rmse"
      ],
      "execution_count": 68,
      "outputs": []
    },
    {
      "cell_type": "code",
      "metadata": {
        "colab": {
          "base_uri": "https://localhost:8080/"
        },
        "id": "hFNXTjYMOVAm",
        "outputId": "5c266e1a-c967-4bd2-9836-4ca8e7990ac1"
      },
      "source": [
        "k_val_list = [x for x in range(1,26)]\n",
        "col_rmse_k_list_1 = []\n",
        "col_rmse_k_list_2 = []\n",
        "col_rmse_k_list_3 = []\n",
        "for k in k_val_list:\n",
        "  col_rmse_k_list_1.append([k, knn_train_test_hyp(['symboling', 'height', 'highway_mpg', 'stroke', 'bore'], 'price', cars_norm,k)])\n",
        "  col_rmse_k_list_2.append([k, knn_train_test_hyp(['symboling', 'height', 'highway_mpg', 'stroke'], 'price', cars_norm,k)])\n",
        "  col_rmse_k_list_3.append([k, knn_train_test_hyp(['symboling', 'height', 'highway_mpg'], 'price', cars_norm,k)])\n",
        "\n",
        "print(col_rmse_k_list)\n",
        "\n",
        "col_rmse_k_df_1 = pd.DataFrame(col_rmse_k_list_1, columns=['n_neighbors', 'rmse'])\n",
        "col_rmse_k_df_1.index = col_rmse_k_df_1['n_neighbors']\n",
        "\n",
        "col_rmse_k_df_2 = pd.DataFrame(col_rmse_k_list_2, columns=['n_neighbors', 'rmse'])\n",
        "col_rmse_k_df_2.index = col_rmse_k_df_2['n_neighbors']\n",
        "\n",
        "col_rmse_k_df_3 = pd.DataFrame(col_rmse_k_list_3, columns=['n_neighbors', 'rmse'])\n",
        "col_rmse_k_df_3.index = col_rmse_k_df_3['n_neighbors']\n",
        "print(col_rmse_k_df_1.head(2))"
      ],
      "execution_count": 95,
      "outputs": [
        {
          "output_type": "stream",
          "text": [
            "[[1, 4400.608054283258], [2, 4006.536363102921], [3, 4661.508403349899], [4, 5002.350461128609], [5, 5241.64522055283], [6, 5303.339479883302], [7, 5361.094667890245], [8, 5496.8179750504405], [9, 5595.930154894713], [10, 5702.496033416773], [11, 5665.673345391126], [12, 5655.78794386468], [13, 5581.781280560457], [14, 5529.5692150024715], [15, 5436.789482761176], [16, 5398.034284194203], [17, 5441.93122354562], [18, 5432.401239011867], [19, 5474.29018286101], [20, 5515.338057593213], [21, 5523.004343346377], [22, 5534.8056689198065], [23, 5534.488546466807], [24, 5560.181471697681], [25, 5611.444412337947]]\n",
            "             n_neighbors         rmse\n",
            "n_neighbors                          \n",
            "1                      1  5948.955887\n",
            "2                      2  5049.486183\n"
          ],
          "name": "stdout"
        }
      ]
    },
    {
      "cell_type": "markdown",
      "metadata": {
        "id": "hMYk8-Kv_RB5"
      },
      "source": [
        "Varying hyperparameter 'k' shows that the error value declines at first with increasing the number of neighbors analyzed, then sharply increases, indicating analyzing more neighbors is not a guarantee of less error in predictions."
      ]
    },
    {
      "cell_type": "code",
      "metadata": {
        "colab": {
          "base_uri": "https://localhost:8080/",
          "height": 355
        },
        "id": "3pi_2zDmmpRX",
        "outputId": "9ffa2a47-1e0b-4594-d735-12bc5b39f00d"
      },
      "source": [
        "plt.figure(figsize=(15,5))\n",
        "col_rmse_k_df_1['rmse'].plot.line(color='green', label=\"symboling, height, highway_mpg, stroke, bore\")\n",
        "col_rmse_k_df_2['rmse'].plot.line(color='blue', label = \"symboling, height, highway_mpg, stroke\")\n",
        "col_rmse_k_df_3['rmse'].plot.line(color='red', label = \"symboling, height, highway_mpg\")\n",
        "plt.xticks(range(1, 26))\n",
        "plt.title('Error values variation across different n_neighbors')\n",
        "plt.legend()\n",
        "plt.show()"
      ],
      "execution_count": 133,
      "outputs": [
        {
          "output_type": "display_data",
          "data": {
            "image/png": "[encoded data removed]",
            "text/plain": [
              "<Figure size 1080x360 with 1 Axes>"
            ]
          },
          "metadata": {
            "tags": []
          }
        }
      ]
    },
    {
      "cell_type": "markdown",
      "metadata": {
        "id": "OvtABQHcEOec"
      },
      "source": [
        "K-Fold"
      ]
    },
    {
      "cell_type": "code",
      "metadata": {
        "id": "DUcTwOcpERwD"
      },
      "source": [
        "def knn_train_test_kfold(train_cols, tgt_col, df, n_splt):\n",
        "  kf = KFold(n_splits=n_splt, shuffle=True, random_state=1)\n",
        "  knn = KNeighborsRegressor(algorithm='brute')\n",
        "  mses = cross_val_score(knn, df[train_cols], df[tgt_col],\\\n",
        "                         scoring='neg_mean_squared_error', cv=kf)\n",
        "  rmses = [(abs(x))**(1/2) for x in mses]\n",
        "  return [n_splt, np.mean(rmses), np.std(rmses)]"
      ],
      "execution_count": 111,
      "outputs": []
    },
    {
      "cell_type": "code",
      "metadata": {
        "id": "bArAMacdFVqr"
      },
      "source": [
        "n_splits = [x for x in range(2, 21)]\n",
        "k_fold_metrics = []\n",
        "for n in n_splits:\n",
        "  k_fold_metrics.append(knn_train_test_kfold(['symboling', 'height', 'highway_mpg', 'stroke', 'bore'], 'price', cars_norm, n))\n",
        "\n",
        "k_fold_metrics_df = pd.DataFrame(k_fold_metrics, columns=['k_fold', 'mean', 'std'])\n",
        "k_fold_metrics_df.index = k_fold_metrics_df['k_fold']"
      ],
      "execution_count": 118,
      "outputs": []
    },
    {
      "cell_type": "code",
      "metadata": {
        "colab": {
          "base_uri": "https://localhost:8080/",
          "height": 355
        },
        "id": "l2buRJqHIwFB",
        "outputId": "c4e5ecb1-3df2-4629-f5e7-62535b10fd9b"
      },
      "source": [
        "plt.figure(figsize=(15,5))\n",
        "k_fold_metrics_df['mean'].plot.line(color='green', label='Mean')\n",
        "k_fold_metrics_df['std'].plot.line(color='blue', label='Std')\n",
        "plt.xticks(range(2, 21))\n",
        "plt.title('Variance and Average of error values using the K-Fold Cross Validation')\n",
        "plt.legend()\n",
        "plt.show()"
      ],
      "execution_count": 130,
      "outputs": [
        {
          "output_type": "display_data",
          "data": {
            "image/png": "[encoded data removed]",
            "text/plain": [
              "<Figure size 1080x360 with 1 Axes>"
            ]
          },
          "metadata": {
            "tags": []
          }
        }
      ]
    }
  ]
}